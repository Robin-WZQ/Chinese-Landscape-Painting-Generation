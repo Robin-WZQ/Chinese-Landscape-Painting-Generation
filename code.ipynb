{
 "cells": [
  {
   "cell_type": "code",
   "execution_count": null,
   "id": "81073085-d8d2-4ed8-90cc-a7d84e3fcf47",
   "metadata": {},
   "outputs": [],
   "source": [
    "from datasets import load_dataset\n",
    "\n",
    "dataset = load_dataset(\"imagefolder\", data_dir=\"/hy-tmp/stable-diffusion/chinese_landscape_paintings\", split=\"train\")\n",
    "dataset[0][\"text\"]"
   ]
  },
  {
   "cell_type": "code",
   "execution_count": null,
   "id": "db6d5c27-69d2-4b96-929b-0770d902b932",
   "metadata": {},
   "outputs": [],
   "source": [
    "dataset[0]['image']"
   ]
  },
  {
   "cell_type": "code",
   "execution_count": null,
   "id": "cdfb6c9b-18ec-4e2a-8349-11e73275e16a",
   "metadata": {},
   "outputs": [],
   "source": [
    "ckpt_path = \"/hy-tmp/sd-v1-4-full-ema.ckpt\""
   ]
  },
  {
   "cell_type": "code",
   "execution_count": null,
   "id": "741895d5-f552-4561-bc11-b37405a04de5",
   "metadata": {},
   "outputs": [],
   "source": [
    "# 2xA6000:\n",
    "BATCH_SIZE = 4\n",
    "N_GPUS = 1\n",
    "ACCUMULATE_BATCHES = 1\n",
    "\n",
    "gpu_list = \",\".join((str(x) for x in range(N_GPUS)))+\",\"\n",
    "print(f\"Using GPUs: {gpu_list}\")"
   ]
  },
  {
   "cell_type": "code",
   "execution_count": null,
   "id": "8b6ef515-dfbf-455e-91da-df90cb4b6603",
   "metadata": {},
   "outputs": [],
   "source": [
    "# Run training\n",
    "!(python main.py \\\n",
    "    -t \\\n",
    "    --base configs/stable-diffusion/landscape_paintings.yaml \\\n",
    "    --gpus \"$gpu_list\" \\\n",
    "    --scale_lr False \\\n",
    "    --num_nodes 1 \\\n",
    "    --check_val_every_n_epoch 1 \\\n",
    "    --finetune_from \"$ckpt_path\" \\\n",
    "    data.params.batch_size=\"$BATCH_SIZE\" \\\n",
    "    lightning.trainer.accumulate_grad_batches=\"$ACCUMULATE_BATCHES\" \\\n",
    "    data.params.validation.params.n_gpus=\"$N_GPUS\" \\\n",
    ")"
   ]
  },
  {
   "cell_type": "code",
   "execution_count": null,
   "id": "81e83abe-b91f-40f3-82ca-0ff3eadad283",
   "metadata": {},
   "outputs": [],
   "source": [
    "# Run the model\n",
    "!(python scripts/txt2img.py \\\n",
    "    --prompt 'a chinese landscape painting of a landscape with mountains and a river' \\\n",
    "    --outdir 'outputs/generated_pl' \\\n",
    "    --H 512 --W 512 \\\n",
    "    --n_samples 4 \\\n",
    "    --config 'configs/stable-diffusion/landscape_paintings.yaml' \\\n",
    "    --ckpt 'logs/2022-11-01T17-08-20_landscape_paintings/checkpoints/last.ckpt')"
   ]
  },
  {
   "cell_type": "code",
   "execution_count": null,
   "id": "142c8bc8-e2fa-44cd-8d92-2b77392a2140",
   "metadata": {},
   "outputs": [],
   "source": [
    "from PIL import Image\n",
    "im = Image.open(\"outputs/generated_pl/grid-0000.png\").resize((1024, 256))\n",
    "display(im)\n",
    "print(\"a chinese landscape painting of a landscape with mountains and a river\")"
   ]
  },
  {
   "cell_type": "code",
   "execution_count": null,
   "id": "9b08385b-3511-4dc3-b34f-cf5710a722cc",
   "metadata": {},
   "outputs": [],
   "source": [
    "# Run the model\n",
    "!(python scripts/txt2img.py \\\n",
    "    --prompt 'a chinese landscape painting of a mountain with trees on it' \\\n",
    "    --outdir 'outputs/generated_pl' \\\n",
    "    --H 512 --W 512 \\\n",
    "    --n_samples 4 \\\n",
    "    --config 'configs/stable-diffusion/landscape_paintings.yaml' \\\n",
    "    --ckpt 'logs/2022-11-01T17-08-20_landscape_paintings/checkpoints/last.ckpt')"
   ]
  },
  {
   "cell_type": "code",
   "execution_count": null,
   "id": "08520d0a-de8b-4453-9b45-6148c0e64d3e",
   "metadata": {},
   "outputs": [],
   "source": [
    "from PIL import Image\n",
    "im = Image.open(\"outputs/generated_pl/grid-0002.png\").resize((1024, 256))\n",
    "display(im)\n",
    "print(\"a chinese landscape painting of a mountain with trees on it\")"
   ]
  },
  {
   "cell_type": "code",
   "execution_count": null,
   "id": "479751d8-4ac6-42c0-9fc7-80fb8d165158",
   "metadata": {},
   "outputs": [],
   "source": [
    "# Run the model\n",
    "!(python scripts/txt2img.py \\\n",
    "    --prompt 'a chinese landscape painting of a building with trees in front of it' \\\n",
    "    --outdir 'outputs/generated_pl' \\\n",
    "    --H 512 --W 512 \\\n",
    "    --n_samples 4 \\\n",
    "    --config 'configs/stable-diffusion/landscape_paintings.yaml' \\\n",
    "    --ckpt 'logs/2022-11-01T17-08-20_landscape_paintings/checkpoints/last.ckpt')\n"
   ]
  },
  {
   "cell_type": "code",
   "execution_count": null,
   "id": "d1586c72-8301-4dc4-a6a8-13ab693cb617",
   "metadata": {},
   "outputs": [],
   "source": [
    "from PIL import Image\n",
    "im = Image.open(\"outputs/generated_pl/grid-0006.png\").resize((1024, 256))\n",
    "display(im)\n",
    "print(\"a chinese landscape painting of a building with trees in front of it\")"
   ]
  },
  {
   "cell_type": "code",
   "execution_count": null,
   "id": "e83dec17-efbe-4939-b305-97a4aa8a27f0",
   "metadata": {},
   "outputs": [],
   "source": [
    "# Run the model\n",
    "!(python scripts/txt2img.py \\\n",
    "    --prompt 'a chinese landscape painting of a man standing on top of a cliff' \\\n",
    "    --outdir 'outputs/generated_pl' \\\n",
    "    --H 512 --W 512 \\\n",
    "    --n_samples 4 \\\n",
    "    --config 'configs/stable-diffusion/landscape_paintings.yaml' \\\n",
    "    --ckpt 'logs/2022-11-01T17-08-20_landscape_paintings/checkpoints/last.ckpt')"
   ]
  },
  {
   "cell_type": "code",
   "execution_count": null,
   "id": "934e0a9e-aaac-4243-be9c-2ea0ecc98e8e",
   "metadata": {},
   "outputs": [],
   "source": [
    "from PIL import Image\n",
    "im = Image.open(\"outputs/generated_pl/grid-0005.png\").resize((1024, 256))\n",
    "display(im)\n",
    "print(\"a chinese landscape painting of a man standing on top of a cliff\")"
   ]
  }
 ],
 "metadata": {
  "kernelspec": {
   "display_name": "Python 3.8.13 ('lavis')",
   "language": "python",
   "name": "python3"
  },
  "language_info": {
   "codemirror_mode": {
    "name": "ipython",
    "version": 3
   },
   "file_extension": ".py",
   "mimetype": "text/x-python",
   "name": "python",
   "nbconvert_exporter": "python",
   "pygments_lexer": "ipython3",
   "version": "3.8.13"
  },
  "vscode": {
   "interpreter": {
    "hash": "bf11a96a7d9100b8d6fc88b9cb951af35b9ef6f514b58e947d52a42d23ae9a5f"
   }
  }
 },
 "nbformat": 4,
 "nbformat_minor": 5
}
